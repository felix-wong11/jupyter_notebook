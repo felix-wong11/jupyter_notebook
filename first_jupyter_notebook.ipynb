{
 "cells": [
  {
   "cell_type": "markdown",
   "metadata": {},
   "source": [
    "<ol>\n",
    "    <li>This is the first item</li>\n",
    "    <li>This is the second item</li>\n",
    "</ol>"
   ]
  },
  {
   "cell_type": "markdown",
   "metadata": {},
   "source": [
    "# Header\n",
    "## Item 1"
   ]
  },
  {
   "cell_type": "code",
   "execution_count": 2,
   "metadata": {},
   "outputs": [
    {
     "name": "stdout",
     "output_type": "stream",
     "text": [
      "Estimated mu: 37.034714934027186\n",
      "Estimated var:  0.7698952886336708\n"
     ]
    },
    {
     "data": {
      "text/plain": [
       "<Figure size 640x480 with 1 Axes>"
      ]
     },
     "metadata": {},
     "output_type": "display_data"
    }
   ],
   "source": [
    "from scipy import stats\n",
    "import numpy as np\n",
    "import matplotlib.pyplot as plt\n",
    "import math\n",
    "\n",
    "\n",
    "def lognormDrive(mu,variance):\n",
    "    size = 1000\n",
    "    sigma = math.sqrt(variance)\n",
    "    np.random.seed(1)\n",
    "    gaussianData = stats.norm.rvs(loc=mu, scale=sigma, size=size)\n",
    "    logData = np.exp(gaussianData)\n",
    "    shape, loc, scale = stats.lognorm.fit(logData, floc=0)\n",
    "    print(\"Estimated mu:\", np.log(scale))\n",
    "    print (\"Estimated var: \", shape**2)\n",
    "    logData.sort()\n",
    "    return logData, stats.lognorm.pdf(logData, shape, loc, scale)\n",
    "\n",
    "x, y = lognormDrive(37, 0.8)\n",
    "plt.plot(x, y)\n",
    "plt.grid()\n",
    "plt.show()\n"
   ]
  },
  {
   "cell_type": "code",
   "execution_count": null,
   "metadata": {},
   "outputs": [],
   "source": []
  },
  {
   "cell_type": "code",
   "execution_count": null,
   "metadata": {},
   "outputs": [],
   "source": []
  }
 ],
 "metadata": {
  "kernelspec": {
   "display_name": "Python 3",
   "language": "python",
   "name": "python3"
  },
  "language_info": {
   "codemirror_mode": {
    "name": "ipython",
    "version": 3
   },
   "file_extension": ".py",
   "mimetype": "text/x-python",
   "name": "python",
   "nbconvert_exporter": "python",
   "pygments_lexer": "ipython3",
   "version": "3.6.4"
  }
 },
 "nbformat": 4,
 "nbformat_minor": 2
}
